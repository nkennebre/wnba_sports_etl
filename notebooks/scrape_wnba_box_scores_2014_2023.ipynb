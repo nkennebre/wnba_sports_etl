{
 "cells": [
  {
   "cell_type": "markdown",
   "id": "690706ca-804f-4bbc-bd98-a09ebd60e1ad",
   "metadata": {},
   "source": [
    "<h1 style=\"text-align:center;\">WNBA DATA SCRAPE</h1> 🏀\n",
    "\n",
    "## I used this notebook to scrape game logs from [www.basketball-reference.com](www.basketball-reference.com). This is the [youtube video](https://youtu.be/pZBcBrOxCVQ?si=Bgi8-ZXV9h7O4Pcu) I followed which details how to scrape NBA data. I had to make a few adjustments. \n",
    "\n",
    "### Note: I wanted ten seasons of data. But the current Las Vegas Aces were the San Antonio Silver Stars for the first two years of the ten year window. I have not, yet, decided how I wanted to proceed. This notebook produces a dataset that has ten seasons for every other team and 8 seasons for the Las Vegas Aces."
   ]
  },
  {
   "cell_type": "code",
   "execution_count": 1,
   "id": "0520fb7f-1fd5-4649-9ce6-0d8b67d7b189",
   "metadata": {},
   "outputs": [],
   "source": [
    "# Import libraries\n",
    "import numpy as np\n",
    "import pandas as pd\n",
    "import random\n",
    "import time\n",
    "from unidecode import unidecode"
   ]
  },
  {
   "cell_type": "code",
   "execution_count": 2,
   "id": "5b75324a-a9de-4f1b-bab2-add4c40af3dd",
   "metadata": {},
   "outputs": [
    {
     "data": {
      "text/plain": [
       "13"
      ]
     },
     "execution_count": 2,
     "metadata": {},
     "output_type": "execute_result"
    }
   ],
   "source": [
    "# Create list of team codes\n",
    "teams = ['ATL', 'CHI', 'CON', 'IND', 'LAS', 'MIN', 'NYL', 'PHO', 'LVA', 'SEA', 'DAL', 'WAS', 'GSV']\n",
    "len(teams)"
   ]
  },
  {
   "cell_type": "code",
   "execution_count": 3,
   "id": "bb6626d5-d586-4a1b-8933-fb43887c7d3b",
   "metadata": {},
   "outputs": [
    {
     "data": {
      "text/plain": [
       "1"
      ]
     },
     "execution_count": 3,
     "metadata": {},
     "output_type": "execute_result"
    }
   ],
   "source": [
    "# seasons = ['2015', '2016', '2017', '2018', '2019', '2020', '2021', '2022', '2023', '2024']\n",
    "seasons = ['2025']\n",
    "len(seasons)"
   ]
  },
  {
   "cell_type": "code",
   "execution_count": 4,
   "id": "f0b8cf0d-3b85-4b7e-9a4a-cc0faeddd57d",
   "metadata": {},
   "outputs": [],
   "source": [
    "stats = [\n",
    "    'FG', 'FGA', 'FG%', \n",
    "    '3P', '3PA', '3P%', \n",
    "    'FT', 'FTA', 'FT%', \n",
    "    'ORB', 'TRB', 'AST', \n",
    "    'STL', 'BLK', 'TOV', 'PF'\n",
    "]\n",
    "\n",
    "# Create a team stats dictionary\n",
    "tm_stats_dict = {stat: 'Tm_' + str(stat) for stat in stats} \n",
    "\n",
    "# Create the opponents stats dictionary\n",
    "opp_stats_dict = {stat + '.1': 'Opp_' + str(stat) for stat in stats}"
   ]
  },
  {
   "cell_type": "code",
   "execution_count": 5,
   "id": "42e88fcc-da4a-4b09-b03e-c7e7a7fc4d0a",
   "metadata": {},
   "outputs": [
    {
     "name": "stdout",
     "output_type": "stream",
     "text": [
      "Scraping URL: https://www.basketball-reference.com/wnba/teams/ATL/2025/gamelog\n",
      "Scraping URL: https://www.basketball-reference.com/wnba/teams/CHI/2025/gamelog\n",
      "Scraping URL: https://www.basketball-reference.com/wnba/teams/CON/2025/gamelog\n",
      "Scraping URL: https://www.basketball-reference.com/wnba/teams/IND/2025/gamelog\n",
      "Scraping URL: https://www.basketball-reference.com/wnba/teams/LAS/2025/gamelog\n",
      "Scraping URL: https://www.basketball-reference.com/wnba/teams/MIN/2025/gamelog\n",
      "Scraping URL: https://www.basketball-reference.com/wnba/teams/NYL/2025/gamelog\n",
      "Scraping URL: https://www.basketball-reference.com/wnba/teams/PHO/2025/gamelog\n",
      "Scraping URL: https://www.basketball-reference.com/wnba/teams/LVA/2025/gamelog\n",
      "Scraping URL: https://www.basketball-reference.com/wnba/teams/SEA/2025/gamelog\n",
      "Scraping URL: https://www.basketball-reference.com/wnba/teams/DAL/2025/gamelog\n",
      "Scraping URL: https://www.basketball-reference.com/wnba/teams/WAS/2025/gamelog\n",
      "Scraping URL: https://www.basketball-reference.com/wnba/teams/GSV/2025/gamelog\n",
      "    Season Team  G#        Date  Home  Opp W/L  Tm_Pts  Opp_Pts  Tm_FG  ...  \\\n",
      "0     2025  ATL   1  2025-05-16     0  WAS   L      90       94     30  ...   \n",
      "1     2025  ATL   2  2025-05-20     0  IND   W      91       90     29  ...   \n",
      "2     2025  ATL   3  2025-05-22     1  IND   L      76       81     24  ...   \n",
      "3     2025  ATL   4  2025-05-24     1  DAL   W      83       75     29  ...   \n",
      "4     2025  ATL   5  2025-05-25     1  CON   W      79       55     29  ...   \n",
      "..     ...  ...  ..         ...   ...  ...  ..     ...      ...    ...  ...   \n",
      "149   2025  GSV   7  2025-06-05     0  PHO   L      77       86     25  ...   \n",
      "150   2025  GSV   8  2025-06-07     1  LVA   W      95       68     34  ...   \n",
      "151   2025  GSV   9  2025-06-09     0  LAS   W      89       81     32  ...   \n",
      "152   2025  GSV  10  2025-06-14     1  SEA   W      76       70     28  ...   \n",
      "153   2025  GSV  11  2025-06-17     0  DAL   L      71       80     24  ...   \n",
      "\n",
      "     Opp_FT  Opp_FTA  Opp_FT%  Opp_ORB  Opp_TRB  Opp_AST  Opp_STL  Opp_BLK  \\\n",
      "0        23       31    0.742        5       26       18        7        4   \n",
      "1        16       26    0.615        8       32       18        3        3   \n",
      "2         8       15    0.533        7       41       21        4        3   \n",
      "3        10       14    0.714       11       38       17        9        3   \n",
      "4         9       14    0.643        6       34       14        4        3   \n",
      "..      ...      ...      ...      ...      ...      ...      ...      ...   \n",
      "149      15       20    0.750       10       36       15        7        5   \n",
      "150      18       25    0.720        7       31       11        5        2   \n",
      "151      19       25    0.760        6       34       23        8        4   \n",
      "152      12       14    0.857        3       20       19       11        5   \n",
      "153      15       19    0.789       13       39       23       12        6   \n",
      "\n",
      "     Opp_TOV  Opp_PF  \n",
      "0          7      25  \n",
      "1         14      19  \n",
      "2         13      25  \n",
      "3          8      18  \n",
      "4          9      21  \n",
      "..       ...     ...  \n",
      "149       17      20  \n",
      "150       13      14  \n",
      "151       13      23  \n",
      "152       16      15  \n",
      "153       11      20  \n",
      "\n",
      "[154 rows x 41 columns]\n"
     ]
    }
   ],
   "source": [
    "# Create an empty dataframe to append\n",
    "wnba_df = pd.DataFrame()\n",
    "\n",
    "# Iterate through the seasons\n",
    "for season in seasons: \n",
    "    # Iterate through the teams\n",
    "    for team in teams:\n",
    "        # Set the URL\n",
    "        url = f'https://www.basketball-reference.com/wnba/teams/{team}/{season}/gamelog'\n",
    "        print(f\"Scraping URL: {url}\")\n",
    "        \n",
    "        try:\n",
    "            # Attempt to scrape the table\n",
    "            team_df = pd.read_html(url, header=1, attrs={'id': 'wnba_tgl_basic'})[0]\n",
    "            \n",
    "            # Drop rows where 'Rk' is null or where 'Rk' is equal to 'Rk'\n",
    "            team_df = team_df[team_df['Rk'].astype(str).str.isnumeric()]\n",
    "            \n",
    "            # Drop the blank column\n",
    "            team_df = team_df.drop(columns=['Rk', 'Unnamed: 6', 'Unnamed: 9', 'Unnamed: 26'])\n",
    "\n",
    "            # Rename columns\n",
    "            team_df = team_df.rename(columns={'Unnamed: 3': 'Home', 'Tm': 'Tm_Pts', 'Opp.1': 'Opp_Pts'})\n",
    "            team_df = team_df.rename(columns=tm_stats_dict)\n",
    "            team_df = team_df.rename(columns=opp_stats_dict)\n",
    "\n",
    "            # Replace values in 'Home'\n",
    "            team_df['Home'] = team_df['Home'].apply(lambda x: 0 if x == '@' else 1)\n",
    "\n",
    "            # Add two columns to the front of team_df\n",
    "            team_df.insert(loc=0, column='Season', value=season)\n",
    "            team_df.insert(loc=1, column='Team', value=team.upper())\n",
    "\n",
    "            # Append the current year and team gamelogs to the aggregate dataframe\n",
    "            wnba_df = pd.concat([wnba_df, team_df], ignore_index=True)\n",
    "\n",
    "        except ValueError as e:\n",
    "            # Handle the error if the table is not found\n",
    "            print(f\"Table not found for Team: {team.upper()} in Season: {season}. Skipping...\")\n",
    "\n",
    "        # Pause program to abide by basketball-reference.com rules\n",
    "        time.sleep(random.randint(4, 6))\n",
    "\n",
    "# Display the aggregate dataframe\n",
    "print(wnba_df)"
   ]
  },
  {
   "cell_type": "code",
   "execution_count": 6,
   "id": "9242fafa-7845-4fa5-8cce-3e1392ab1fc0",
   "metadata": {},
   "outputs": [
    {
     "data": {
      "text/plain": [
       "'/home/maxkennebrew/projects/sports_etl_project/notebooks'"
      ]
     },
     "execution_count": 6,
     "metadata": {},
     "output_type": "execute_result"
    }
   ],
   "source": [
    "pwd"
   ]
  },
  {
   "cell_type": "code",
   "execution_count": 7,
   "id": "9164fdfe-0fb0-41a1-899a-845b99a27b52",
   "metadata": {},
   "outputs": [],
   "source": [
    "wnba_df.to_csv('../data/wnba_gamelogs_2025_1stQtr.csv', index = False)"
   ]
  }
 ],
 "metadata": {
  "kernelspec": {
   "display_name": "Python (sports_etl)",
   "language": "python",
   "name": "sports_etl"
  },
  "language_info": {
   "codemirror_mode": {
    "name": "ipython",
    "version": 3
   },
   "file_extension": ".py",
   "mimetype": "text/x-python",
   "name": "python",
   "nbconvert_exporter": "python",
   "pygments_lexer": "ipython3",
   "version": "3.12.7"
  }
 },
 "nbformat": 4,
 "nbformat_minor": 5
}
