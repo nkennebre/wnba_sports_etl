{
 "cells": [
  {
   "cell_type": "markdown",
   "id": "a32c7b00-a384-464d-aa41-ac7bba65275b",
   "metadata": {},
   "source": [
    "# WNBA ETL + Analytics Demo\n",
    "\n",
    "This notebook demonstrates an example end-to-end data pipeline using WNBA game log data.\n",
    "We extract and transform team box scores, generate analytics-ready datasets, and visualize insights relevant to game outcomes and 3-point shooting trends.\n",
    "\n",
    "Created by N. Maxine Kennebrew | Powered by `sports_etl`"
   ]
  },
  {
   "cell_type": "code",
   "execution_count": 1,
   "id": "d725fd6b-a480-4294-adaf-f7b918a4106a",
   "metadata": {},
   "outputs": [],
   "source": [
    "# Import your ETL pipeline\n",
    "from sports_etl.etl.extract import load_team_stats\n",
    "import pandas as pd\n",
    "import matplotlib.pyplot as plt\n",
    "import seaborn as sns"
   ]
  },
  {
   "cell_type": "code",
   "execution_count": 4,
   "id": "15fedadf-662e-4d59-b300-33240602c2d9",
   "metadata": {},
   "outputs": [
    {
     "name": "stdout",
     "output_type": "stream",
     "text": [
      "/home/maxkennebrew/projects/sports_etl_project/notebooks\n"
     ]
    }
   ],
   "source": [
    "!pwd"
   ]
  },
  {
   "cell_type": "code",
   "execution_count": 5,
   "id": "42121894-2570-4ec5-9d60-4b6c13280c1b",
   "metadata": {},
   "outputs": [
    {
     "name": "stderr",
     "output_type": "stream",
     "text": [
      "[INFO] Loaded 3942 rows × 41 columns from wnba_gamelogs_2015_2024.csv\n"
     ]
    },
    {
     "data": {
      "text/html": [
       "<div>\n",
       "<style scoped>\n",
       "    .dataframe tbody tr th:only-of-type {\n",
       "        vertical-align: middle;\n",
       "    }\n",
       "\n",
       "    .dataframe tbody tr th {\n",
       "        vertical-align: top;\n",
       "    }\n",
       "\n",
       "    .dataframe thead th {\n",
       "        text-align: right;\n",
       "    }\n",
       "</style>\n",
       "<table border=\"1\" class=\"dataframe\">\n",
       "  <thead>\n",
       "    <tr style=\"text-align: right;\">\n",
       "      <th></th>\n",
       "      <th>Season</th>\n",
       "      <th>Team</th>\n",
       "      <th>G#</th>\n",
       "      <th>Date</th>\n",
       "      <th>Home</th>\n",
       "      <th>Opp</th>\n",
       "      <th>W/L</th>\n",
       "      <th>Tm_Pts</th>\n",
       "      <th>Opp_Pts</th>\n",
       "      <th>Tm_FG</th>\n",
       "      <th>...</th>\n",
       "      <th>Opp_FT</th>\n",
       "      <th>Opp_FTA</th>\n",
       "      <th>Opp_FT%</th>\n",
       "      <th>Opp_ORB</th>\n",
       "      <th>Opp_TRB</th>\n",
       "      <th>Opp_AST</th>\n",
       "      <th>Opp_STL</th>\n",
       "      <th>Opp_BLK</th>\n",
       "      <th>Opp_TOV</th>\n",
       "      <th>Opp_PF</th>\n",
       "    </tr>\n",
       "  </thead>\n",
       "  <tbody>\n",
       "    <tr>\n",
       "      <th>0</th>\n",
       "      <td>2015</td>\n",
       "      <td>ATL</td>\n",
       "      <td>1</td>\n",
       "      <td>2015-06-05</td>\n",
       "      <td>0</td>\n",
       "      <td>NYL</td>\n",
       "      <td>L</td>\n",
       "      <td>73</td>\n",
       "      <td>82</td>\n",
       "      <td>24</td>\n",
       "      <td>...</td>\n",
       "      <td>21</td>\n",
       "      <td>26</td>\n",
       "      <td>0.808</td>\n",
       "      <td>4</td>\n",
       "      <td>32</td>\n",
       "      <td>16</td>\n",
       "      <td>13</td>\n",
       "      <td>4</td>\n",
       "      <td>15</td>\n",
       "      <td>20</td>\n",
       "    </tr>\n",
       "    <tr>\n",
       "      <th>1</th>\n",
       "      <td>2015</td>\n",
       "      <td>ATL</td>\n",
       "      <td>2</td>\n",
       "      <td>2015-06-07</td>\n",
       "      <td>1</td>\n",
       "      <td>CON</td>\n",
       "      <td>L</td>\n",
       "      <td>70</td>\n",
       "      <td>75</td>\n",
       "      <td>25</td>\n",
       "      <td>...</td>\n",
       "      <td>12</td>\n",
       "      <td>19</td>\n",
       "      <td>0.632</td>\n",
       "      <td>8</td>\n",
       "      <td>25</td>\n",
       "      <td>14</td>\n",
       "      <td>18</td>\n",
       "      <td>3</td>\n",
       "      <td>11</td>\n",
       "      <td>24</td>\n",
       "    </tr>\n",
       "    <tr>\n",
       "      <th>2</th>\n",
       "      <td>2015</td>\n",
       "      <td>ATL</td>\n",
       "      <td>3</td>\n",
       "      <td>2015-06-11</td>\n",
       "      <td>1</td>\n",
       "      <td>SAS</td>\n",
       "      <td>W</td>\n",
       "      <td>72</td>\n",
       "      <td>69</td>\n",
       "      <td>28</td>\n",
       "      <td>...</td>\n",
       "      <td>16</td>\n",
       "      <td>18</td>\n",
       "      <td>0.889</td>\n",
       "      <td>8</td>\n",
       "      <td>29</td>\n",
       "      <td>19</td>\n",
       "      <td>6</td>\n",
       "      <td>7</td>\n",
       "      <td>17</td>\n",
       "      <td>18</td>\n",
       "    </tr>\n",
       "    <tr>\n",
       "      <th>3</th>\n",
       "      <td>2015</td>\n",
       "      <td>ATL</td>\n",
       "      <td>4</td>\n",
       "      <td>2015-06-12</td>\n",
       "      <td>0</td>\n",
       "      <td>WAS</td>\n",
       "      <td>W</td>\n",
       "      <td>64</td>\n",
       "      <td>61</td>\n",
       "      <td>24</td>\n",
       "      <td>...</td>\n",
       "      <td>10</td>\n",
       "      <td>12</td>\n",
       "      <td>0.833</td>\n",
       "      <td>11</td>\n",
       "      <td>32</td>\n",
       "      <td>15</td>\n",
       "      <td>7</td>\n",
       "      <td>2</td>\n",
       "      <td>15</td>\n",
       "      <td>18</td>\n",
       "    </tr>\n",
       "    <tr>\n",
       "      <th>4</th>\n",
       "      <td>2015</td>\n",
       "      <td>ATL</td>\n",
       "      <td>5</td>\n",
       "      <td>2015-06-14</td>\n",
       "      <td>0</td>\n",
       "      <td>CON</td>\n",
       "      <td>L</td>\n",
       "      <td>64</td>\n",
       "      <td>82</td>\n",
       "      <td>26</td>\n",
       "      <td>...</td>\n",
       "      <td>5</td>\n",
       "      <td>6</td>\n",
       "      <td>0.833</td>\n",
       "      <td>6</td>\n",
       "      <td>26</td>\n",
       "      <td>17</td>\n",
       "      <td>13</td>\n",
       "      <td>0</td>\n",
       "      <td>23</td>\n",
       "      <td>16</td>\n",
       "    </tr>\n",
       "  </tbody>\n",
       "</table>\n",
       "<p>5 rows × 41 columns</p>\n",
       "</div>"
      ],
      "text/plain": [
       "   Season Team  G#        Date  Home  Opp W/L  Tm_Pts  Opp_Pts  Tm_FG  ...  \\\n",
       "0    2015  ATL   1  2015-06-05     0  NYL   L      73       82     24  ...   \n",
       "1    2015  ATL   2  2015-06-07     1  CON   L      70       75     25  ...   \n",
       "2    2015  ATL   3  2015-06-11     1  SAS   W      72       69     28  ...   \n",
       "3    2015  ATL   4  2015-06-12     0  WAS   W      64       61     24  ...   \n",
       "4    2015  ATL   5  2015-06-14     0  CON   L      64       82     26  ...   \n",
       "\n",
       "   Opp_FT  Opp_FTA  Opp_FT%  Opp_ORB  Opp_TRB  Opp_AST  Opp_STL  Opp_BLK  \\\n",
       "0      21       26    0.808        4       32       16       13        4   \n",
       "1      12       19    0.632        8       25       14       18        3   \n",
       "2      16       18    0.889        8       29       19        6        7   \n",
       "3      10       12    0.833       11       32       15        7        2   \n",
       "4       5        6    0.833        6       26       17       13        0   \n",
       "\n",
       "   Opp_TOV  Opp_PF  \n",
       "0       15      20  \n",
       "1       11      24  \n",
       "2       17      18  \n",
       "3       15      18  \n",
       "4       23      16  \n",
       "\n",
       "[5 rows x 41 columns]"
      ]
     },
     "execution_count": 5,
     "metadata": {},
     "output_type": "execute_result"
    }
   ],
   "source": [
    "from sports_etl.etl.extract import load_team_stats\n",
    "\n",
    "df = load_team_stats(\"../data/wnba_gamelogs_2015_2024.csv\")  # adjust filename if needed\n",
    "df.head()"
   ]
  },
  {
   "cell_type": "code",
   "execution_count": 6,
   "id": "c4e3b4e2-823a-419d-901d-0980df76ea25",
   "metadata": {},
   "outputs": [
    {
     "name": "stdout",
     "output_type": "stream",
     "text": [
      "Rows: 3942, Columns: 41\n",
      "['Season', 'Team', 'G#', 'Date', 'Home', 'Opp', 'W/L', 'Tm_Pts', 'Opp_Pts', 'Tm_FG', 'Tm_FGA', 'Tm_FG%', 'Tm_3P', 'Tm_3PA', 'Tm_3P%', 'Tm_FT', 'Tm_FTA', 'Tm_FT%', 'Tm_ORB', 'Tm_TRB', 'Tm_AST', 'Tm_STL', 'Tm_BLK', 'Tm_TOV', 'Tm_PF', 'Opp_FG', 'Opp_FGA', 'Opp_FG%', 'Opp_3P', 'Opp_3PA', 'Opp_3P%', 'Opp_FT', 'Opp_FTA', 'Opp_FT%', 'Opp_ORB', 'Opp_TRB', 'Opp_AST', 'Opp_STL', 'Opp_BLK', 'Opp_TOV', 'Opp_PF']\n"
     ]
    }
   ],
   "source": [
    "print(f\"Rows: {df.shape[0]}, Columns: {df.shape[1]}\")\n",
    "print(df.columns.tolist())"
   ]
  },
  {
   "cell_type": "code",
   "execution_count": 8,
   "id": "f55e5934-b1ba-41aa-b2b5-772513c028ff",
   "metadata": {},
   "outputs": [
    {
     "name": "stderr",
     "output_type": "stream",
     "text": [
      "[INFO] Transformed team stats — final shape after deduplication: (3940, 48)\n",
      "[INFO] Transformed team stats with new features.\n"
     ]
    },
    {
     "name": "stdout",
     "output_type": "stream",
     "text": [
      "   Season Team  G#        Date  Home  Opp W/L  Tm_Pts  Opp_Pts  Tm_FG  ...  \\\n",
      "0    2015  ATL   1  2015-06-05     0  NYL   L      73       82     24  ...   \n",
      "1    2015  ATL   2  2015-06-07     1  CON   L      70       75     25  ...   \n",
      "2    2015  ATL   3  2015-06-11     1  SAS   W      72       69     28  ...   \n",
      "3    2015  ATL   4  2015-06-12     0  WAS   W      64       61     24  ...   \n",
      "4    2015  ATL   5  2015-06-14     0  CON   L      64       82     26  ...   \n",
      "\n",
      "   Opp_BLK  Opp_TOV  Opp_PF  win_margin  Tm_poss  Opp_poss  Tm_off_rating  \\\n",
      "0        4       15      20          -9    83.68     82.44      87.237094   \n",
      "1        3       11      24          -5    83.92     82.36      83.412774   \n",
      "2        7       17      18           3    78.92     78.92      91.231627   \n",
      "3        2       15      18           3    74.40     72.28      86.021505   \n",
      "4        0       23      16         -18    83.28     78.64      76.849183   \n",
      "\n",
      "   Tm_def_rating  Tm_tov_rate  Opp_tov_rate  \n",
      "0      99.466279     0.227055           1.0  \n",
      "1      91.063623     0.297903           1.0  \n",
      "2      87.430309     0.190066           1.0  \n",
      "3      84.394023     0.215054           1.0  \n",
      "4     104.272635     0.288184           1.0  \n",
      "\n",
      "[5 rows x 48 columns]\n"
     ]
    }
   ],
   "source": [
    "from sports_etl.etl.transform import transform_team_stats_my_dataset\n",
    "\n",
    "df_clean = transform_team_stats_my_dataset(df)\n",
    "print(df_clean.head())"
   ]
  },
  {
   "cell_type": "code",
   "execution_count": 11,
   "id": "b91f09fa-3592-4241-8943-d805672f3baa",
   "metadata": {},
   "outputs": [],
   "source": [
    "df_clean['3PT_Share'] = (df_clean['Tm_3P'] * 3) / df_clean['Tm_Pts'] * 100"
   ]
  },
  {
   "cell_type": "code",
   "execution_count": 14,
   "id": "6891fc1e-e596-4dd3-931f-bfc0758330ea",
   "metadata": {},
   "outputs": [
    {
     "data": {
      "image/png": "[encoded data removed]",
      "text/plain": [
       "<Figure size 1000x500 with 1 Axes>"
      ]
     },
     "metadata": {},
     "output_type": "display_data"
    }
   ],
   "source": [
    "fig, ax = plt.subplots(figsize=(10, 5))\n",
    "sns.boxplot(data=df_clean, x='Team', y='3PT_Share', hue='Team', palette='Set2', ax=ax, legend=False)\n",
    "ax.set_title(\"Distribution of 3PT Scoring Share by Team\")\n",
    "ax.set_ylabel(\"% of Points from 3PT\")\n",
    "plt.xticks(rotation=45)\n",
    "plt.tight_layout()"
   ]
  },
  {
   "cell_type": "code",
   "execution_count": 15,
   "id": "7d45533b-35bc-4c6b-b7fb-970a245b0781",
   "metadata": {},
   "outputs": [],
   "source": [
    "df_2024_q1 = df[(df['Season'] == 2024) & (df['G#'] <= 11)].copy()"
   ]
  },
  {
   "cell_type": "code",
   "execution_count": 16,
   "id": "75e2d2d8-8106-4019-ac6d-e837639f5e41",
   "metadata": {},
   "outputs": [
    {
     "data": {
      "text/html": [
       "<div>\n",
       "<style scoped>\n",
       "    .dataframe tbody tr th:only-of-type {\n",
       "        vertical-align: middle;\n",
       "    }\n",
       "\n",
       "    .dataframe tbody tr th {\n",
       "        vertical-align: top;\n",
       "    }\n",
       "\n",
       "    .dataframe thead th {\n",
       "        text-align: right;\n",
       "    }\n",
       "</style>\n",
       "<table border=\"1\" class=\"dataframe\">\n",
       "  <thead>\n",
       "    <tr style=\"text-align: right;\">\n",
       "      <th></th>\n",
       "      <th>Tm_3P</th>\n",
       "      <th>Tm_Pts</th>\n",
       "      <th>ThreeP_Share</th>\n",
       "    </tr>\n",
       "    <tr>\n",
       "      <th>Team</th>\n",
       "      <th></th>\n",
       "      <th></th>\n",
       "      <th></th>\n",
       "    </tr>\n",
       "  </thead>\n",
       "  <tbody>\n",
       "    <tr>\n",
       "      <th>PHO</th>\n",
       "      <td>108</td>\n",
       "      <td>867</td>\n",
       "      <td>37.370242</td>\n",
       "    </tr>\n",
       "    <tr>\n",
       "      <th>MIN</th>\n",
       "      <td>117</td>\n",
       "      <td>940</td>\n",
       "      <td>37.340426</td>\n",
       "    </tr>\n",
       "    <tr>\n",
       "      <th>WAS</th>\n",
       "      <td>92</td>\n",
       "      <td>808</td>\n",
       "      <td>34.158416</td>\n",
       "    </tr>\n",
       "    <tr>\n",
       "      <th>LVA</th>\n",
       "      <td>109</td>\n",
       "      <td>960</td>\n",
       "      <td>34.062500</td>\n",
       "    </tr>\n",
       "    <tr>\n",
       "      <th>NYL</th>\n",
       "      <td>99</td>\n",
       "      <td>941</td>\n",
       "      <td>31.562168</td>\n",
       "    </tr>\n",
       "  </tbody>\n",
       "</table>\n",
       "</div>"
      ],
      "text/plain": [
       "      Tm_3P  Tm_Pts  ThreeP_Share\n",
       "Team                             \n",
       "PHO     108     867     37.370242\n",
       "MIN     117     940     37.340426\n",
       "WAS      92     808     34.158416\n",
       "LVA     109     960     34.062500\n",
       "NYL      99     941     31.562168"
      ]
     },
     "execution_count": 16,
     "metadata": {},
     "output_type": "execute_result"
    }
   ],
   "source": [
    "q1_3pt_summary = (\n",
    "    df_2024_q1.groupby(\"Team\")[['Tm_3P', 'Tm_Pts']]\n",
    "    .sum()\n",
    "    .assign(ThreeP_Share=lambda x: x['Tm_3P'] * 3 / x['Tm_Pts'] * 100)\n",
    "    .sort_values(\"ThreeP_Share\", ascending=False)\n",
    ")\n",
    "q1_3pt_summary.head()"
   ]
  },
  {
   "cell_type": "code",
   "execution_count": 18,
   "id": "4393e8a1-7f9b-44cc-9775-178afdac1ae4",
   "metadata": {},
   "outputs": [
    {
     "data": {
      "image/png": "[encoded data removed]",
      "text/plain": [
       "<Figure size 800x500 with 1 Axes>"
      ]
     },
     "metadata": {},
     "output_type": "display_data"
    }
   ],
   "source": [
    "top5 = q1_3pt_summary.head(5).reset_index()\n",
    "\n",
    "fig, ax = plt.subplots(figsize=(8, 5))\n",
    "sns.barplot(data=top5, x='Team', y='ThreeP_Share', palette='muted', hue = 'Team', ax=ax)\n",
    "ax.set_title(\"Top 5 WNBA Teams — 3PT Scoring Share (2025 Q1)\")\n",
    "ax.set_ylabel(\"% of Points from 3PT\")\n",
    "plt.tight_layout()"
   ]
  },
  {
   "cell_type": "markdown",
   "id": "6bedcc27-6e74-4be8-b4e6-7d703a59d91d",
   "metadata": {},
   "source": [
    "## Summary\n",
    "\n",
    "This notebook demonstrates:\n",
    "\n",
    "- Loading and transforming team box score data from CSV\n",
    "- Creating derived features like 3PT scoring share\n",
    "- Producing quick team-level insights through visuals\n",
    "\n",
    "For more WNBA analytics, visual storytelling, and game-day breakdowns, follow along:\n",
    "- 📸 Instagram: [@playher.ai](https://www.instagram.com/playher.ai)\n",
    "- 📊 Kaggle: [natoshakennebrew](https://www.kaggle.com/natoshakennebrew)\n",
    "\n",
    "---"
   ]
  }
 ],
 "metadata": {
  "kernelspec": {
   "display_name": "Python (sports_etl)",
   "language": "python",
   "name": "sports_etl"
  },
  "language_info": {
   "codemirror_mode": {
    "name": "ipython",
    "version": 3
   },
   "file_extension": ".py",
   "mimetype": "text/x-python",
   "name": "python",
   "nbconvert_exporter": "python",
   "pygments_lexer": "ipython3",
   "version": "3.12.7"
  }
 },
 "nbformat": 4,
 "nbformat_minor": 5
}
