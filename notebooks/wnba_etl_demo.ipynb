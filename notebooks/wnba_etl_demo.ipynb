{
 "cells": [
  {
   "cell_type": "markdown",
   "id": "a32c7b00-a384-464d-aa41-ac7bba65275b",
   "metadata": {},
   "source": [
    "# WNBA ETL + Analytics Demo\n",
    "\n",
    "This notebook demonstrates an example end-to-end data pipeline using WNBA game log data.\n",
    "We extract and transform team box scores, generate analytics-ready datasets, and visualize insights relevant to game outcomes and 3-point shooting trends.\n",
    "\n",
    "Created by N. Maxine Kennebrew | Powered by `sports_etl`"
   ]
  },
  {
   "cell_type": "code",
   "execution_count": 1,
   "id": "d725fd6b-a480-4294-adaf-f7b918a4106a",
   "metadata": {},
   "outputs": [],
   "source": [
    "# Import your ETL pipeline\n",
    "from sports_etl.etl.extract import load_team_stats\n",
    "import pandas as pd\n",
    "import matplotlib.pyplot as plt\n",
    "import seaborn as sns"
   ]
  },
  {
   "cell_type": "code",
   "execution_count": 3,
   "id": "42121894-2570-4ec5-9d60-4b6c13280c1b",
   "metadata": {},
   "outputs": [
    {
     "name": "stderr",
     "output_type": "stream",
     "text": [
      "[ERROR] File not found: data/wnba_gamelogs_2015_2024.csv\n"
     ]
    },
    {
     "ename": "FileNotFoundError",
     "evalue": "No file found at data/wnba_gamelogs_2015_2024.csv",
     "output_type": "error",
     "traceback": [
      "\u001b[31m---------------------------------------------------------------------------\u001b[39m",
      "\u001b[31mFileNotFoundError\u001b[39m                         Traceback (most recent call last)",
      "\u001b[36mCell\u001b[39m\u001b[36m \u001b[39m\u001b[32mIn[3]\u001b[39m\u001b[32m, line 3\u001b[39m\n\u001b[32m      1\u001b[39m \u001b[38;5;28;01mfrom\u001b[39;00m\u001b[38;5;250m \u001b[39m\u001b[34;01msports_etl\u001b[39;00m\u001b[34;01m.\u001b[39;00m\u001b[34;01metl\u001b[39;00m\u001b[34;01m.\u001b[39;00m\u001b[34;01mextract\u001b[39;00m\u001b[38;5;250m \u001b[39m\u001b[38;5;28;01mimport\u001b[39;00m load_team_stats\n\u001b[32m----> \u001b[39m\u001b[32m3\u001b[39m df = \u001b[43mload_team_stats\u001b[49m\u001b[43m(\u001b[49m\u001b[33;43m\"\u001b[39;49m\u001b[33;43m./data/wnba_gamelogs_2015_2024.csv\u001b[39;49m\u001b[33;43m\"\u001b[39;49m\u001b[43m)\u001b[49m  \u001b[38;5;66;03m# adjust filename if needed\u001b[39;00m\n\u001b[32m      4\u001b[39m df.head()\n",
      "\u001b[36mFile \u001b[39m\u001b[32m~/projects/sports_etl_project/sports_etl/etl/extract.py:12\u001b[39m, in \u001b[36mload_team_stats\u001b[39m\u001b[34m(csv_path)\u001b[39m\n\u001b[32m     10\u001b[39m \u001b[38;5;28;01mif\u001b[39;00m \u001b[38;5;129;01mnot\u001b[39;00m csv_path.exists():\n\u001b[32m     11\u001b[39m     logger.error(\u001b[33mf\u001b[39m\u001b[33m\"\u001b[39m\u001b[33mFile not found: \u001b[39m\u001b[38;5;132;01m{\u001b[39;00mcsv_path\u001b[38;5;132;01m}\u001b[39;00m\u001b[33m\"\u001b[39m)\n\u001b[32m---> \u001b[39m\u001b[32m12\u001b[39m     \u001b[38;5;28;01mraise\u001b[39;00m \u001b[38;5;167;01mFileNotFoundError\u001b[39;00m(\u001b[33mf\u001b[39m\u001b[33m\"\u001b[39m\u001b[33mNo file found at \u001b[39m\u001b[38;5;132;01m{\u001b[39;00mcsv_path\u001b[38;5;132;01m}\u001b[39;00m\u001b[33m\"\u001b[39m)\n\u001b[32m     14\u001b[39m \u001b[38;5;28;01mtry\u001b[39;00m:\n\u001b[32m     15\u001b[39m     df = pd.read_csv(csv_path)\n",
      "\u001b[31mFileNotFoundError\u001b[39m: No file found at data/wnba_gamelogs_2015_2024.csv"
     ]
    }
   ],
   "source": [
    "from sports_etl.etl.extract import load_team_stats\n",
    "\n",
    "df = load_team_stats(\"./data/wnba_gamelogs_2015_2024.csv\")  # adjust filename if needed\n",
    "df.head()"
   ]
  },
  {
   "cell_type": "code",
   "execution_count": null,
   "id": "c4e3b4e2-823a-419d-901d-0980df76ea25",
   "metadata": {},
   "outputs": [],
   "source": [
    "print(f\"Rows: {df.shape[0]}, Columns: {df.shape[1]}\")\n",
    "print(df.columns.tolist())"
   ]
  },
  {
   "cell_type": "code",
   "execution_count": null,
   "id": "f55e5934-b1ba-41aa-b2b5-772513c028ff",
   "metadata": {},
   "outputs": [],
   "source": []
  },
  {
   "cell_type": "code",
   "execution_count": null,
   "id": "6891fc1e-e596-4dd3-931f-bfc0758330ea",
   "metadata": {},
   "outputs": [],
   "source": []
  }
 ],
 "metadata": {
  "kernelspec": {
   "display_name": "Python (sports_etl)",
   "language": "python",
   "name": "sports_etl"
  },
  "language_info": {
   "codemirror_mode": {
    "name": "ipython",
    "version": 3
   },
   "file_extension": ".py",
   "mimetype": "text/x-python",
   "name": "python",
   "nbconvert_exporter": "python",
   "pygments_lexer": "ipython3",
   "version": "3.12.7"
  }
 },
 "nbformat": 4,
 "nbformat_minor": 5
}
